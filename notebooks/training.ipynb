{
 "cells": [
  {
   "cell_type": "code",
   "execution_count": 1,
   "id": "73161c19-5353-4230-8d9c-632ddae27b42",
   "metadata": {},
   "outputs": [
    {
     "name": "stdout",
     "output_type": "stream",
     "text": [
      "/Users/westford14/Desktop/projects/watchlist/watchlist-recommender\n"
     ]
    }
   ],
   "source": [
    "%cd .."
   ]
  },
  {
   "cell_type": "code",
   "execution_count": 2,
   "id": "cb839f24-b756-4168-85a3-3f8340129b9c",
   "metadata": {},
   "outputs": [
    {
     "name": "stderr",
     "output_type": "stream",
     "text": [
      "/Users/westford14/Desktop/projects/watchlist/watchlist-recommender/.venv/lib/python3.13/site-packages/tqdm/auto.py:21: TqdmWarning: IProgress not found. Please update jupyter and ipywidgets. See https://ipywidgets.readthedocs.io/en/stable/user_install.html\n",
      "  from .autonotebook import tqdm as notebook_tqdm\n"
     ]
    }
   ],
   "source": [
    "from ast import literal_eval\n",
    "\n",
    "import torch\n",
    "import torch.nn as nn\n",
    "import torch.optim as optim\n",
    "import lightning as L\n",
    "import pandas as pd\n",
    "from torch.utils.data import DataLoader, Dataset\n",
    "from sklearn.feature_extraction.text import TfidfVectorizer\n",
    "from umap import UMAP"
   ]
  },
  {
   "cell_type": "code",
   "execution_count": 3,
   "id": "7a4ce50e-f19d-4b95-95a2-1ebcad3bf0df",
   "metadata": {},
   "outputs": [
    {
     "name": "stderr",
     "output_type": "stream",
     "text": [
      "/var/folders/0m/q505qxs135n_k__z8pn_q2fw0000gn/T/ipykernel_96537/3572328560.py:3: DtypeWarning: Columns (10) have mixed types. Specify dtype option on import or set low_memory=False.\n",
      "  movies = pd.read_csv(\"data/movies_metadata.csv\")\n"
     ]
    }
   ],
   "source": [
    "ratings = pd.read_csv(\"data/ratings.csv\")\n",
    "ratings = ratings.sample(n=1_000_000)\n",
    "movies = pd.read_csv(\"data/movies_metadata.csv\")"
   ]
  },
  {
   "cell_type": "markdown",
   "id": "94aa8a0c-59f6-4ab2-8703-a5e056a2e172",
   "metadata": {},
   "source": [
    "#### Loading"
   ]
  },
  {
   "cell_type": "code",
   "execution_count": 4,
   "id": "6a48da8e-6e13-40b6-8c6b-1d8f99a93723",
   "metadata": {},
   "outputs": [],
   "source": [
    "ratings = ratings[[\"userId\", \"movieId\", \"rating\"]].rename(columns={\n",
    "    \"userId\": \"user_id\",\n",
    "    \"movieId\": \"movie_id\",\n",
    "})"
   ]
  },
  {
   "cell_type": "code",
   "execution_count": 5,
   "id": "485ffa11-0bb5-41e2-8a0f-8f2303eca383",
   "metadata": {},
   "outputs": [],
   "source": [
    "movies = movies[[\"id\", \"original_title\", \"overview\", \"genres\"]]\n",
    "movies = movies.rename(columns={\n",
    "    \"id\": \"movie_id\",\n",
    "    \"original_title\": \"title\"\n",
    "})"
   ]
  },
  {
   "cell_type": "markdown",
   "id": "6aebfaa9-2972-4530-ab70-159eb82dbc57",
   "metadata": {},
   "source": [
    "#### Cleaning"
   ]
  },
  {
   "cell_type": "code",
   "execution_count": 6,
   "id": "2ab188ad-c73e-429d-83ad-2a118ae1c2ce",
   "metadata": {},
   "outputs": [],
   "source": [
    "genres = [\n",
    "    'Animation',\n",
    "    'Comedy',\n",
    "    'Family',\n",
    "    'Adventure',\n",
    "    'Fantasy',\n",
    "    'Romance',\n",
    "    'Drama',\n",
    "    'Action',\n",
    "    'Crime',\n",
    "    'Thriller',\n",
    "    'Horror',\n",
    "    'History',\n",
    "    'Science Fiction',\n",
    "    'Mystery',\n",
    "    'War',\n",
    "    'Foreign',\n",
    "    'Music',\n",
    "    'Documentary',\n",
    "    'Western'\n",
    "]"
   ]
  },
  {
   "cell_type": "code",
   "execution_count": 7,
   "id": "38ea3fa7-ae17-4689-9dac-c7141f76e139",
   "metadata": {},
   "outputs": [],
   "source": [
    "def cleaner(x, genres=genres):\n",
    "    ret = []\n",
    "    for y in x:\n",
    "        if y in genres:\n",
    "            ret.append(y)\n",
    "    return ret"
   ]
  },
  {
   "cell_type": "code",
   "execution_count": 8,
   "id": "dbaa0940-b956-4011-b83e-b362896b6720",
   "metadata": {},
   "outputs": [],
   "source": [
    "movies[\"genres\"] = movies[\"genres\"].apply(lambda x: [y[\"name\"] for y in literal_eval(x)])"
   ]
  },
  {
   "cell_type": "code",
   "execution_count": 9,
   "id": "1d7b1331-22e4-4bcc-bf84-fbdf2c04d43c",
   "metadata": {},
   "outputs": [],
   "source": [
    "movies[\"genres\"] = movies[\"genres\"].apply(cleaner)"
   ]
  },
  {
   "cell_type": "code",
   "execution_count": 10,
   "id": "c36abe85-1095-4545-ae1a-3c5006c94345",
   "metadata": {
    "scrolled": true
   },
   "outputs": [],
   "source": [
    "movies[\"text\"] = movies[\"title\"] + movies[\"overview\"] + movies[\"genres\"].apply(lambda x: \" \".join(x))"
   ]
  },
  {
   "cell_type": "code",
   "execution_count": 11,
   "id": "cb0102a3-b953-499d-8515-6c6af1210415",
   "metadata": {},
   "outputs": [],
   "source": [
    "movies = movies[[\"movie_id\", \"text\"]]"
   ]
  },
  {
   "cell_type": "code",
   "execution_count": 12,
   "id": "63f01172-3e0e-4db2-97bf-5df2cb13b271",
   "metadata": {},
   "outputs": [],
   "source": [
    "movies = movies.dropna()"
   ]
  },
  {
   "cell_type": "code",
   "execution_count": 13,
   "id": "6f317127-fd28-4d58-af64-b4dd21a338b8",
   "metadata": {},
   "outputs": [],
   "source": [
    "movies[\"movie_id\"] = pd.to_numeric(movies[\"movie_id\"], errors=\"coerce\")"
   ]
  },
  {
   "cell_type": "code",
   "execution_count": 14,
   "id": "dd39d04f-e7ea-44f8-b774-16ac65044960",
   "metadata": {},
   "outputs": [],
   "source": [
    "movies = movies.dropna()"
   ]
  },
  {
   "cell_type": "code",
   "execution_count": 15,
   "id": "499a3f5f-eaa3-47bd-a531-58e773a7e308",
   "metadata": {},
   "outputs": [],
   "source": [
    "vectorizer = TfidfVectorizer(stop_words='english', strip_accents=\"ascii\")\n",
    "tfidf_output = vectorizer.fit_transform(movies[\"text\"].values.tolist())"
   ]
  },
  {
   "cell_type": "code",
   "execution_count": 16,
   "id": "0db456a3-e0c4-4761-9a1a-a32894a19201",
   "metadata": {},
   "outputs": [],
   "source": [
    "mapper = UMAP(n_components=5).fit(\n",
    "    tfidf_output\n",
    ")"
   ]
  },
  {
   "cell_type": "code",
   "execution_count": 17,
   "id": "4f2a1241-96ca-4ddb-98b2-a2193d0d1435",
   "metadata": {},
   "outputs": [],
   "source": [
    "umap_output = mapper.transform(tfidf_output)"
   ]
  },
  {
   "cell_type": "code",
   "execution_count": 18,
   "id": "aa0d275e-d592-43c5-a06d-0797258eb580",
   "metadata": {},
   "outputs": [],
   "source": [
    "umap_df = pd.DataFrame(umap_output, columns=[f\"feature_{x}\" for x in range(5)])"
   ]
  },
  {
   "cell_type": "code",
   "execution_count": 19,
   "id": "6ac0f557-4d13-4b7f-a51a-df5b399cae5d",
   "metadata": {},
   "outputs": [],
   "source": [
    "fulL_df = pd.concat([movies.reset_index(drop=True), umap_df], axis=1)"
   ]
  },
  {
   "cell_type": "code",
   "execution_count": 20,
   "id": "09c76094-a36b-4c37-b90e-d471cd37e2bc",
   "metadata": {},
   "outputs": [],
   "source": [
    "full_dataset = fulL_df.merge(ratings, on=\"movie_id\")"
   ]
  },
  {
   "cell_type": "code",
   "execution_count": 21,
   "id": "42909b35-95e8-45d7-946f-f17916012612",
   "metadata": {},
   "outputs": [],
   "source": [
    "full_dataset = full_dataset.drop(columns=[\"text\"])"
   ]
  },
  {
   "cell_type": "markdown",
   "id": "11c4b629-ed59-4b2f-a6b4-92708584c280",
   "metadata": {},
   "source": [
    "#### Training"
   ]
  },
  {
   "cell_type": "code",
   "execution_count": 107,
   "id": "540edad5-ab50-409b-a23b-8d5f91a3f105",
   "metadata": {},
   "outputs": [],
   "source": [
    "class MatrixFactorization(L.LightningModule):\n",
    "    def __init__(self, num_users, num_movies, embedding_dim):\n",
    "        super().__init__()\n",
    "        self.user_embedding = nn.Embedding(num_users, embedding_dim)\n",
    "        self.movie_embedding = nn.Embedding(num_movies, embedding_dim)\n",
    "        self.text_embedding = nn.Embedding(num_movies, embedding_dim)\n",
    "        self.embedding_dim = embedding_dim\n",
    "\n",
    "    def forward(self, user_id, movie_id, text_features):\n",
    "        user_vector = self.user_embedding(user_id)\n",
    "        movie_vector = self.movie_embedding(movie_id)\n",
    "        m = nn.ZeroPad1d((0, self.embedding_dim - text_features.shape[1]))\n",
    "        text_vector = m(text_features)\n",
    "        return (user_vector * movie_vector * text_vector).sum(1)\n",
    "\n",
    "    def training_step(self, batch, batch_idx):\n",
    "        user_id, item_id, rating, text_features = batch\n",
    "        prediction = self(user_id, item_id, text_features)\n",
    "        loss = nn.functional.mse_loss(prediction, rating)\n",
    "        self.log('train_loss', loss)\n",
    "        return loss\n",
    "\n",
    "    def validation_step(self, batch, batch_idx):\n",
    "        user_id, item_id, rating, text_features = batch\n",
    "        prediction = self(user_id, item_id, text_features)\n",
    "        loss = nn.functional.mse_loss(prediction, rating)\n",
    "        self.log('validation_loss', loss)\n",
    "        return {'validation_loss': loss, 'y_hat': prediction, 'y': rating}\n",
    "\n",
    "    def configure_optimizers(self):\n",
    "        return optim.SGD(self.parameters(), lr=0.01)"
   ]
  },
  {
   "cell_type": "code",
   "execution_count": 108,
   "id": "7f192aa2-5f59-4cd1-9b3c-2b53709f43e3",
   "metadata": {},
   "outputs": [],
   "source": [
    "class MovieLensDataset(Dataset):\n",
    "    def __init__(self, dataframe=None):\n",
    "        self.dataframe = dataframe\n",
    "        self.num_users = self.dataframe['user_id'].nunique()\n",
    "        self.num_items = self.dataframe['movie_id'].nunique()\n",
    "        self.text_items = self.dataframe['movie_id'].nunique()\n",
    "\n",
    "    def __len__(self):\n",
    "        return len(self.dataframe)\n",
    "\n",
    "    def __getitem__(self, idx):\n",
    "        user_id = self.dataframe[\"user_id\"].iloc[idx]\n",
    "        movie_id = self.dataframe[\"movie_id\"].iloc[idx]\n",
    "        rating = self.dataframe[\"rating\"].iloc[idx]\n",
    "        text_features = self.dataframe[[f\"feature_{x}\" for x in range(5)]].iloc[idx]\n",
    "        return (\n",
    "            torch.tensor(user_id, dtype=torch.long),\n",
    "            torch.tensor(movie_id, dtype=torch.long),\n",
    "            torch.tensor(rating, dtype=torch.float),\n",
    "            torch.tensor(text_features, dtype=torch.float)\n",
    "        )"
   ]
  },
  {
   "cell_type": "code",
   "execution_count": 109,
   "id": "01a1da04-b94b-48e7-8c3a-de1fa21f7c61",
   "metadata": {},
   "outputs": [],
   "source": [
    "from sklearn.model_selection import train_test_split"
   ]
  },
  {
   "cell_type": "code",
   "execution_count": 110,
   "id": "5ec6af72-e311-4752-b82d-46fcdc341506",
   "metadata": {},
   "outputs": [],
   "source": [
    "train_df, test_df = train_test_split(full_dataset, test_size=0.7)\n",
    "test_df, val_df = train_test_split(test_df, test_size=0.5)\n",
    "\n",
    "train_dataset = MovieLensDataset(train_df)\n",
    "val_dataset = MovieLensDataset(val_df)\n",
    "test_dataset = MovieLensDataset(test_df)"
   ]
  },
  {
   "cell_type": "code",
   "execution_count": 111,
   "id": "85e46601-cc95-41bc-8d4b-f683a2bff4f9",
   "metadata": {},
   "outputs": [],
   "source": [
    "train_data = DataLoader(train_dataset, batch_size=512, shuffle=True)\n",
    "val_data = DataLoader(val_dataset, batch_size=512, shuffle=True)\n",
    "test_data = DataLoader(test_dataset, batch_size=512, shuffle=True)"
   ]
  },
  {
   "cell_type": "code",
   "execution_count": 119,
   "id": "b45c04b5-8b67-46ce-bbb0-f784b469f1d5",
   "metadata": {},
   "outputs": [],
   "source": [
    "import warnings\n",
    "warnings.filterwarnings(\"ignore\")"
   ]
  },
  {
   "cell_type": "code",
   "execution_count": 120,
   "id": "b3ce8d04-dbd9-4b01-b18c-a8b8e073178d",
   "metadata": {},
   "outputs": [],
   "source": [
    "from lightning.pytorch.loggers import TensorBoardLogger"
   ]
  },
  {
   "cell_type": "code",
   "execution_count": 121,
   "id": "da703531-9fbd-47bd-a537-6fa136179464",
   "metadata": {},
   "outputs": [],
   "source": [
    "from lightning.pytorch.callbacks.early_stopping import EarlyStopping\n",
    "from lightning.pytorch.callbacks.model_checkpoint import ModelCheckpoint"
   ]
  },
  {
   "cell_type": "code",
   "execution_count": 125,
   "id": "e0ad796f-d1f1-43ae-9dc6-98da606f2052",
   "metadata": {},
   "outputs": [],
   "source": [
    "model = MatrixFactorization(dataset.num_users, dataset.num_items, embedding_dim=20)"
   ]
  },
  {
   "cell_type": "code",
   "execution_count": 126,
   "id": "1fdd0d28-8e80-4f7d-aacf-ec878188a796",
   "metadata": {},
   "outputs": [],
   "source": [
    "checkpoint_callback = ModelCheckpoint(\n",
    "    monitor='validation_loss',\n",
    "    dirpath='./checkpoints',  # saving to specific directory\n",
    "    filename='best-checkpoint-nn-mf',  # consistent naming\n",
    "    save_top_k=1,  # only keep the best\n",
    "    mode='min',\n",
    "    verbose=True\n",
    ")"
   ]
  },
  {
   "cell_type": "code",
   "execution_count": 127,
   "id": "574e2f93-53cf-4cb3-ab4c-d0225ccaed81",
   "metadata": {
    "scrolled": true
   },
   "outputs": [
    {
     "name": "stderr",
     "output_type": "stream",
     "text": [
      "Using 16bit Automatic Mixed Precision (AMP)\n",
      "GPU available: True (mps), used: True\n",
      "TPU available: False, using: 0 TPU cores\n",
      "HPU available: False, using: 0 HPUs\n",
      "\n",
      "  | Name            | Type      | Params | Mode \n",
      "------------------------------------------------------\n",
      "0 | user_embedding  | Embedding | 2.8 M  | train\n",
      "1 | movie_embedding | Embedding | 96.2 K | train\n",
      "2 | text_embedding  | Embedding | 96.2 K | train\n",
      "------------------------------------------------------\n",
      "3.0 M     Trainable params\n",
      "0         Non-trainable params\n",
      "3.0 M     Total params\n",
      "11.813    Total estimated model params size (MB)\n",
      "3         Modules in train mode\n",
      "0         Modules in eval mode\n"
     ]
    },
    {
     "name": "stdout",
     "output_type": "stream",
     "text": [
      "Epoch 7:  60%|████████████████████████████████████████████████████████████████                                           | 154/257 [1:38:20<1:05:46,  0.03it/s, v_num=6]\n"
     ]
    },
    {
     "name": "stderr",
     "output_type": "stream",
     "text": [
      "Epoch 0, global step 257: 'validation_loss' reached 70.74042 (best 70.74042), saving model to '/Users/westford14/Desktop/projects/watchlist/watchlist-recommender/checkpoints/best-checkpoint-nn-mf-v2.ckpt' as top 1\n",
      "Epoch 1, global step 514: 'validation_loss' reached 52.82177 (best 52.82177), saving model to '/Users/westford14/Desktop/projects/watchlist/watchlist-recommender/checkpoints/best-checkpoint-nn-mf-v2.ckpt' as top 1\n",
      "Epoch 2, global step 771: 'validation_loss' reached 44.06007 (best 44.06007), saving model to '/Users/westford14/Desktop/projects/watchlist/watchlist-recommender/checkpoints/best-checkpoint-nn-mf-v2.ckpt' as top 1\n",
      "Epoch 3, global step 1028: 'validation_loss' reached 38.81806 (best 38.81806), saving model to '/Users/westford14/Desktop/projects/watchlist/watchlist-recommender/checkpoints/best-checkpoint-nn-mf-v2.ckpt' as top 1\n",
      "Epoch 4, global step 1285: 'validation_loss' reached 35.32833 (best 35.32833), saving model to '/Users/westford14/Desktop/projects/watchlist/watchlist-recommender/checkpoints/best-checkpoint-nn-mf-v2.ckpt' as top 1\n",
      "Epoch 5, global step 1542: 'validation_loss' reached 32.83466 (best 32.83466), saving model to '/Users/westford14/Desktop/projects/watchlist/watchlist-recommender/checkpoints/best-checkpoint-nn-mf-v2.ckpt' as top 1\n",
      "Epoch 6, global step 1799: 'validation_loss' reached 30.95623 (best 30.95623), saving model to '/Users/westford14/Desktop/projects/watchlist/watchlist-recommender/checkpoints/best-checkpoint-nn-mf-v2.ckpt' as top 1\n",
      "Epoch 7, global step 2056: 'validation_loss' reached 29.47718 (best 29.47718), saving model to '/Users/westford14/Desktop/projects/watchlist/watchlist-recommender/checkpoints/best-checkpoint-nn-mf-v2.ckpt' as top 1\n",
      "Epoch 8, global step 2313: 'validation_loss' reached 28.28059 (best 28.28059), saving model to '/Users/westford14/Desktop/projects/watchlist/watchlist-recommender/checkpoints/best-checkpoint-nn-mf-v2.ckpt' as top 1\n",
      "Epoch 9, global step 2570: 'validation_loss' reached 27.29366 (best 27.29366), saving model to '/Users/westford14/Desktop/projects/watchlist/watchlist-recommender/checkpoints/best-checkpoint-nn-mf-v2.ckpt' as top 1\n",
      "Epoch 10, global step 2827: 'validation_loss' reached 26.46706 (best 26.46706), saving model to '/Users/westford14/Desktop/projects/watchlist/watchlist-recommender/checkpoints/best-checkpoint-nn-mf-v2.ckpt' as top 1\n",
      "Epoch 11, global step 3084: 'validation_loss' reached 25.76456 (best 25.76456), saving model to '/Users/westford14/Desktop/projects/watchlist/watchlist-recommender/checkpoints/best-checkpoint-nn-mf-v2.ckpt' as top 1\n",
      "Epoch 12, global step 3341: 'validation_loss' reached 25.15576 (best 25.15576), saving model to '/Users/westford14/Desktop/projects/watchlist/watchlist-recommender/checkpoints/best-checkpoint-nn-mf-v2.ckpt' as top 1\n",
      "Epoch 13, global step 3598: 'validation_loss' reached 24.61715 (best 24.61715), saving model to '/Users/westford14/Desktop/projects/watchlist/watchlist-recommender/checkpoints/best-checkpoint-nn-mf-v2.ckpt' as top 1\n",
      "Epoch 14, global step 3855: 'validation_loss' reached 24.14809 (best 24.14809), saving model to '/Users/westford14/Desktop/projects/watchlist/watchlist-recommender/checkpoints/best-checkpoint-nn-mf-v2.ckpt' as top 1\n",
      "Epoch 15, global step 4112: 'validation_loss' reached 23.73415 (best 23.73415), saving model to '/Users/westford14/Desktop/projects/watchlist/watchlist-recommender/checkpoints/best-checkpoint-nn-mf-v2.ckpt' as top 1\n",
      "Epoch 16, global step 4369: 'validation_loss' reached 23.36295 (best 23.36295), saving model to '/Users/westford14/Desktop/projects/watchlist/watchlist-recommender/checkpoints/best-checkpoint-nn-mf-v2.ckpt' as top 1\n",
      "Epoch 17, global step 4626: 'validation_loss' reached 23.02678 (best 23.02678), saving model to '/Users/westford14/Desktop/projects/watchlist/watchlist-recommender/checkpoints/best-checkpoint-nn-mf-v2.ckpt' as top 1\n",
      "Epoch 18, global step 4883: 'validation_loss' reached 22.72764 (best 22.72764), saving model to '/Users/westford14/Desktop/projects/watchlist/watchlist-recommender/checkpoints/best-checkpoint-nn-mf-v2.ckpt' as top 1\n",
      "Epoch 19, global step 5140: 'validation_loss' reached 22.45417 (best 22.45417), saving model to '/Users/westford14/Desktop/projects/watchlist/watchlist-recommender/checkpoints/best-checkpoint-nn-mf-v2.ckpt' as top 1\n",
      "Epoch 20, global step 5397: 'validation_loss' reached 22.21037 (best 22.21037), saving model to '/Users/westford14/Desktop/projects/watchlist/watchlist-recommender/checkpoints/best-checkpoint-nn-mf-v2.ckpt' as top 1\n",
      "Epoch 21, global step 5654: 'validation_loss' reached 21.97735 (best 21.97735), saving model to '/Users/westford14/Desktop/projects/watchlist/watchlist-recommender/checkpoints/best-checkpoint-nn-mf-v2.ckpt' as top 1\n",
      "Epoch 22, global step 5911: 'validation_loss' reached 21.76826 (best 21.76826), saving model to '/Users/westford14/Desktop/projects/watchlist/watchlist-recommender/checkpoints/best-checkpoint-nn-mf-v2.ckpt' as top 1\n",
      "Epoch 23, global step 6168: 'validation_loss' reached 21.57458 (best 21.57458), saving model to '/Users/westford14/Desktop/projects/watchlist/watchlist-recommender/checkpoints/best-checkpoint-nn-mf-v2.ckpt' as top 1\n",
      "Epoch 24, global step 6425: 'validation_loss' reached 21.39576 (best 21.39576), saving model to '/Users/westford14/Desktop/projects/watchlist/watchlist-recommender/checkpoints/best-checkpoint-nn-mf-v2.ckpt' as top 1\n",
      "Epoch 25, global step 6682: 'validation_loss' reached 21.23202 (best 21.23202), saving model to '/Users/westford14/Desktop/projects/watchlist/watchlist-recommender/checkpoints/best-checkpoint-nn-mf-v2.ckpt' as top 1\n",
      "Epoch 26, global step 6939: 'validation_loss' reached 21.07696 (best 21.07696), saving model to '/Users/westford14/Desktop/projects/watchlist/watchlist-recommender/checkpoints/best-checkpoint-nn-mf-v2.ckpt' as top 1\n",
      "Epoch 27, global step 7196: 'validation_loss' reached 20.93493 (best 20.93493), saving model to '/Users/westford14/Desktop/projects/watchlist/watchlist-recommender/checkpoints/best-checkpoint-nn-mf-v2.ckpt' as top 1\n",
      "Epoch 28, global step 7453: 'validation_loss' reached 20.79936 (best 20.79936), saving model to '/Users/westford14/Desktop/projects/watchlist/watchlist-recommender/checkpoints/best-checkpoint-nn-mf-v2.ckpt' as top 1\n",
      "Epoch 29, global step 7710: 'validation_loss' reached 20.67726 (best 20.67726), saving model to '/Users/westford14/Desktop/projects/watchlist/watchlist-recommender/checkpoints/best-checkpoint-nn-mf-v2.ckpt' as top 1\n",
      "Epoch 30, global step 7967: 'validation_loss' reached 20.55535 (best 20.55535), saving model to '/Users/westford14/Desktop/projects/watchlist/watchlist-recommender/checkpoints/best-checkpoint-nn-mf-v2.ckpt' as top 1\n",
      "Epoch 31, global step 8224: 'validation_loss' reached 20.44469 (best 20.44469), saving model to '/Users/westford14/Desktop/projects/watchlist/watchlist-recommender/checkpoints/best-checkpoint-nn-mf-v2.ckpt' as top 1\n",
      "Epoch 32, global step 8481: 'validation_loss' reached 20.34158 (best 20.34158), saving model to '/Users/westford14/Desktop/projects/watchlist/watchlist-recommender/checkpoints/best-checkpoint-nn-mf-v2.ckpt' as top 1\n",
      "Epoch 33, global step 8738: 'validation_loss' reached 20.24662 (best 20.24662), saving model to '/Users/westford14/Desktop/projects/watchlist/watchlist-recommender/checkpoints/best-checkpoint-nn-mf-v2.ckpt' as top 1\n",
      "Epoch 34, global step 8995: 'validation_loss' reached 20.14742 (best 20.14742), saving model to '/Users/westford14/Desktop/projects/watchlist/watchlist-recommender/checkpoints/best-checkpoint-nn-mf.ckpt' as top 1\n",
      "Epoch 35, global step 9252: 'validation_loss' reached 20.05736 (best 20.05736), saving model to '/Users/westford14/Desktop/projects/watchlist/watchlist-recommender/checkpoints/best-checkpoint-nn-mf.ckpt' as top 1\n",
      "Epoch 36, global step 9509: 'validation_loss' reached 19.97687 (best 19.97687), saving model to '/Users/westford14/Desktop/projects/watchlist/watchlist-recommender/checkpoints/best-checkpoint-nn-mf.ckpt' as top 1\n",
      "\n",
      "Detected KeyboardInterrupt, attempting graceful shutdown ...\n"
     ]
    },
    {
     "ename": "NameError",
     "evalue": "name 'exit' is not defined",
     "output_type": "error",
     "traceback": [
      "\u001b[31m---------------------------------------------------------------------------\u001b[39m",
      "\u001b[31mKeyboardInterrupt\u001b[39m                         Traceback (most recent call last)",
      "\u001b[36mFile \u001b[39m\u001b[32m~/Desktop/projects/watchlist/watchlist-recommender/.venv/lib/python3.13/site-packages/lightning/pytorch/trainer/call.py:48\u001b[39m, in \u001b[36m_call_and_handle_interrupt\u001b[39m\u001b[34m(trainer, trainer_fn, *args, **kwargs)\u001b[39m\n\u001b[32m     47\u001b[39m         \u001b[38;5;28;01mreturn\u001b[39;00m trainer.strategy.launcher.launch(trainer_fn, *args, trainer=trainer, **kwargs)\n\u001b[32m---> \u001b[39m\u001b[32m48\u001b[39m     \u001b[38;5;28;01mreturn\u001b[39;00m \u001b[43mtrainer_fn\u001b[49m\u001b[43m(\u001b[49m\u001b[43m*\u001b[49m\u001b[43margs\u001b[49m\u001b[43m,\u001b[49m\u001b[43m \u001b[49m\u001b[43m*\u001b[49m\u001b[43m*\u001b[49m\u001b[43mkwargs\u001b[49m\u001b[43m)\u001b[49m\n\u001b[32m     50\u001b[39m \u001b[38;5;28;01mexcept\u001b[39;00m _TunerExitException:\n",
      "\u001b[36mFile \u001b[39m\u001b[32m~/Desktop/projects/watchlist/watchlist-recommender/.venv/lib/python3.13/site-packages/lightning/pytorch/trainer/trainer.py:599\u001b[39m, in \u001b[36mTrainer._fit_impl\u001b[39m\u001b[34m(self, model, train_dataloaders, val_dataloaders, datamodule, ckpt_path)\u001b[39m\n\u001b[32m    593\u001b[39m ckpt_path = \u001b[38;5;28mself\u001b[39m._checkpoint_connector._select_ckpt_path(\n\u001b[32m    594\u001b[39m     \u001b[38;5;28mself\u001b[39m.state.fn,\n\u001b[32m    595\u001b[39m     ckpt_path,\n\u001b[32m    596\u001b[39m     model_provided=\u001b[38;5;28;01mTrue\u001b[39;00m,\n\u001b[32m    597\u001b[39m     model_connected=\u001b[38;5;28mself\u001b[39m.lightning_module \u001b[38;5;129;01mis\u001b[39;00m \u001b[38;5;129;01mnot\u001b[39;00m \u001b[38;5;28;01mNone\u001b[39;00m,\n\u001b[32m    598\u001b[39m )\n\u001b[32m--> \u001b[39m\u001b[32m599\u001b[39m \u001b[38;5;28;43mself\u001b[39;49m\u001b[43m.\u001b[49m\u001b[43m_run\u001b[49m\u001b[43m(\u001b[49m\u001b[43mmodel\u001b[49m\u001b[43m,\u001b[49m\u001b[43m \u001b[49m\u001b[43mckpt_path\u001b[49m\u001b[43m=\u001b[49m\u001b[43mckpt_path\u001b[49m\u001b[43m)\u001b[49m\n\u001b[32m    601\u001b[39m \u001b[38;5;28;01massert\u001b[39;00m \u001b[38;5;28mself\u001b[39m.state.stopped\n",
      "\u001b[36mFile \u001b[39m\u001b[32m~/Desktop/projects/watchlist/watchlist-recommender/.venv/lib/python3.13/site-packages/lightning/pytorch/trainer/trainer.py:1012\u001b[39m, in \u001b[36mTrainer._run\u001b[39m\u001b[34m(self, model, ckpt_path)\u001b[39m\n\u001b[32m   1009\u001b[39m \u001b[38;5;66;03m# ----------------------------\u001b[39;00m\n\u001b[32m   1010\u001b[39m \u001b[38;5;66;03m# RUN THE TRAINER\u001b[39;00m\n\u001b[32m   1011\u001b[39m \u001b[38;5;66;03m# ----------------------------\u001b[39;00m\n\u001b[32m-> \u001b[39m\u001b[32m1012\u001b[39m results = \u001b[38;5;28;43mself\u001b[39;49m\u001b[43m.\u001b[49m\u001b[43m_run_stage\u001b[49m\u001b[43m(\u001b[49m\u001b[43m)\u001b[49m\n\u001b[32m   1014\u001b[39m \u001b[38;5;66;03m# ----------------------------\u001b[39;00m\n\u001b[32m   1015\u001b[39m \u001b[38;5;66;03m# POST-Training CLEAN UP\u001b[39;00m\n\u001b[32m   1016\u001b[39m \u001b[38;5;66;03m# ----------------------------\u001b[39;00m\n",
      "\u001b[36mFile \u001b[39m\u001b[32m~/Desktop/projects/watchlist/watchlist-recommender/.venv/lib/python3.13/site-packages/lightning/pytorch/trainer/trainer.py:1056\u001b[39m, in \u001b[36mTrainer._run_stage\u001b[39m\u001b[34m(self)\u001b[39m\n\u001b[32m   1055\u001b[39m \u001b[38;5;28;01mwith\u001b[39;00m torch.autograd.set_detect_anomaly(\u001b[38;5;28mself\u001b[39m._detect_anomaly):\n\u001b[32m-> \u001b[39m\u001b[32m1056\u001b[39m     \u001b[38;5;28;43mself\u001b[39;49m\u001b[43m.\u001b[49m\u001b[43mfit_loop\u001b[49m\u001b[43m.\u001b[49m\u001b[43mrun\u001b[49m\u001b[43m(\u001b[49m\u001b[43m)\u001b[49m\n\u001b[32m   1057\u001b[39m \u001b[38;5;28;01mreturn\u001b[39;00m \u001b[38;5;28;01mNone\u001b[39;00m\n",
      "\u001b[36mFile \u001b[39m\u001b[32m~/Desktop/projects/watchlist/watchlist-recommender/.venv/lib/python3.13/site-packages/lightning/pytorch/loops/fit_loop.py:216\u001b[39m, in \u001b[36m_FitLoop.run\u001b[39m\u001b[34m(self)\u001b[39m\n\u001b[32m    215\u001b[39m \u001b[38;5;28mself\u001b[39m.on_advance_start()\n\u001b[32m--> \u001b[39m\u001b[32m216\u001b[39m \u001b[38;5;28;43mself\u001b[39;49m\u001b[43m.\u001b[49m\u001b[43madvance\u001b[49m\u001b[43m(\u001b[49m\u001b[43m)\u001b[49m\n\u001b[32m    217\u001b[39m \u001b[38;5;28mself\u001b[39m.on_advance_end()\n",
      "\u001b[36mFile \u001b[39m\u001b[32m~/Desktop/projects/watchlist/watchlist-recommender/.venv/lib/python3.13/site-packages/lightning/pytorch/loops/fit_loop.py:455\u001b[39m, in \u001b[36m_FitLoop.advance\u001b[39m\u001b[34m(self)\u001b[39m\n\u001b[32m    454\u001b[39m \u001b[38;5;28;01massert\u001b[39;00m \u001b[38;5;28mself\u001b[39m._data_fetcher \u001b[38;5;129;01mis\u001b[39;00m \u001b[38;5;129;01mnot\u001b[39;00m \u001b[38;5;28;01mNone\u001b[39;00m\n\u001b[32m--> \u001b[39m\u001b[32m455\u001b[39m \u001b[38;5;28;43mself\u001b[39;49m\u001b[43m.\u001b[49m\u001b[43mepoch_loop\u001b[49m\u001b[43m.\u001b[49m\u001b[43mrun\u001b[49m\u001b[43m(\u001b[49m\u001b[38;5;28;43mself\u001b[39;49m\u001b[43m.\u001b[49m\u001b[43m_data_fetcher\u001b[49m\u001b[43m)\u001b[49m\n",
      "\u001b[36mFile \u001b[39m\u001b[32m~/Desktop/projects/watchlist/watchlist-recommender/.venv/lib/python3.13/site-packages/lightning/pytorch/loops/training_epoch_loop.py:152\u001b[39m, in \u001b[36m_TrainingEpochLoop.run\u001b[39m\u001b[34m(self, data_fetcher)\u001b[39m\n\u001b[32m    151\u001b[39m \u001b[38;5;28;01mtry\u001b[39;00m:\n\u001b[32m--> \u001b[39m\u001b[32m152\u001b[39m     \u001b[38;5;28;43mself\u001b[39;49m\u001b[43m.\u001b[49m\u001b[43madvance\u001b[49m\u001b[43m(\u001b[49m\u001b[43mdata_fetcher\u001b[49m\u001b[43m)\u001b[49m\n\u001b[32m    153\u001b[39m     \u001b[38;5;28mself\u001b[39m.on_advance_end(data_fetcher)\n",
      "\u001b[36mFile \u001b[39m\u001b[32m~/Desktop/projects/watchlist/watchlist-recommender/.venv/lib/python3.13/site-packages/lightning/pytorch/loops/training_epoch_loop.py:306\u001b[39m, in \u001b[36m_TrainingEpochLoop.advance\u001b[39m\u001b[34m(self, data_fetcher)\u001b[39m\n\u001b[32m    305\u001b[39m dataloader_iter = \u001b[38;5;28;01mNone\u001b[39;00m\n\u001b[32m--> \u001b[39m\u001b[32m306\u001b[39m batch, _, __ = \u001b[38;5;28;43mnext\u001b[39;49m\u001b[43m(\u001b[49m\u001b[43mdata_fetcher\u001b[49m\u001b[43m)\u001b[49m\n\u001b[32m    307\u001b[39m \u001b[38;5;66;03m# TODO: we should instead use the batch_idx returned by the fetcher, however, that will require saving the\u001b[39;00m\n\u001b[32m    308\u001b[39m \u001b[38;5;66;03m# fetcher state so that the batch_idx is correct after restarting\u001b[39;00m\n",
      "\u001b[36mFile \u001b[39m\u001b[32m~/Desktop/projects/watchlist/watchlist-recommender/.venv/lib/python3.13/site-packages/lightning/pytorch/loops/fetchers.py:134\u001b[39m, in \u001b[36m_PrefetchDataFetcher.__next__\u001b[39m\u001b[34m(self)\u001b[39m\n\u001b[32m    132\u001b[39m \u001b[38;5;28;01melif\u001b[39;00m \u001b[38;5;129;01mnot\u001b[39;00m \u001b[38;5;28mself\u001b[39m.done:\n\u001b[32m    133\u001b[39m     \u001b[38;5;66;03m# this will run only when no pre-fetching was done.\u001b[39;00m\n\u001b[32m--> \u001b[39m\u001b[32m134\u001b[39m     batch = \u001b[38;5;28;43msuper\u001b[39;49m\u001b[43m(\u001b[49m\u001b[43m)\u001b[49m\u001b[43m.\u001b[49m\u001b[34;43m__next__\u001b[39;49m\u001b[43m(\u001b[49m\u001b[43m)\u001b[49m\n\u001b[32m    135\u001b[39m \u001b[38;5;28;01melse\u001b[39;00m:\n\u001b[32m    136\u001b[39m     \u001b[38;5;66;03m# the iterator is empty\u001b[39;00m\n",
      "\u001b[36mFile \u001b[39m\u001b[32m~/Desktop/projects/watchlist/watchlist-recommender/.venv/lib/python3.13/site-packages/lightning/pytorch/loops/fetchers.py:61\u001b[39m, in \u001b[36m_DataFetcher.__next__\u001b[39m\u001b[34m(self)\u001b[39m\n\u001b[32m     60\u001b[39m \u001b[38;5;28;01mtry\u001b[39;00m:\n\u001b[32m---> \u001b[39m\u001b[32m61\u001b[39m     batch = \u001b[38;5;28;43mnext\u001b[39;49m\u001b[43m(\u001b[49m\u001b[38;5;28;43mself\u001b[39;49m\u001b[43m.\u001b[49m\u001b[43miterator\u001b[49m\u001b[43m)\u001b[49m\n\u001b[32m     62\u001b[39m \u001b[38;5;28;01mexcept\u001b[39;00m \u001b[38;5;167;01mStopIteration\u001b[39;00m:\n",
      "\u001b[36mFile \u001b[39m\u001b[32m~/Desktop/projects/watchlist/watchlist-recommender/.venv/lib/python3.13/site-packages/lightning/pytorch/utilities/combined_loader.py:341\u001b[39m, in \u001b[36mCombinedLoader.__next__\u001b[39m\u001b[34m(self)\u001b[39m\n\u001b[32m    340\u001b[39m \u001b[38;5;28;01massert\u001b[39;00m \u001b[38;5;28mself\u001b[39m._iterator \u001b[38;5;129;01mis\u001b[39;00m \u001b[38;5;129;01mnot\u001b[39;00m \u001b[38;5;28;01mNone\u001b[39;00m\n\u001b[32m--> \u001b[39m\u001b[32m341\u001b[39m out = \u001b[38;5;28;43mnext\u001b[39;49m\u001b[43m(\u001b[49m\u001b[38;5;28;43mself\u001b[39;49m\u001b[43m.\u001b[49m\u001b[43m_iterator\u001b[49m\u001b[43m)\u001b[49m\n\u001b[32m    342\u001b[39m \u001b[38;5;28;01mif\u001b[39;00m \u001b[38;5;28misinstance\u001b[39m(\u001b[38;5;28mself\u001b[39m._iterator, _Sequential):\n",
      "\u001b[36mFile \u001b[39m\u001b[32m~/Desktop/projects/watchlist/watchlist-recommender/.venv/lib/python3.13/site-packages/lightning/pytorch/utilities/combined_loader.py:78\u001b[39m, in \u001b[36m_MaxSizeCycle.__next__\u001b[39m\u001b[34m(self)\u001b[39m\n\u001b[32m     77\u001b[39m \u001b[38;5;28;01mtry\u001b[39;00m:\n\u001b[32m---> \u001b[39m\u001b[32m78\u001b[39m     out[i] = \u001b[38;5;28;43mnext\u001b[39;49m\u001b[43m(\u001b[49m\u001b[38;5;28;43mself\u001b[39;49m\u001b[43m.\u001b[49m\u001b[43miterators\u001b[49m\u001b[43m[\u001b[49m\u001b[43mi\u001b[49m\u001b[43m]\u001b[49m\u001b[43m)\u001b[49m\n\u001b[32m     79\u001b[39m \u001b[38;5;28;01mexcept\u001b[39;00m \u001b[38;5;167;01mStopIteration\u001b[39;00m:\n",
      "\u001b[36mFile \u001b[39m\u001b[32m~/Desktop/projects/watchlist/watchlist-recommender/.venv/lib/python3.13/site-packages/torch/utils/data/dataloader.py:733\u001b[39m, in \u001b[36m_BaseDataLoaderIter.__next__\u001b[39m\u001b[34m(self)\u001b[39m\n\u001b[32m    732\u001b[39m     \u001b[38;5;28mself\u001b[39m._reset()  \u001b[38;5;66;03m# type: ignore[call-arg]\u001b[39;00m\n\u001b[32m--> \u001b[39m\u001b[32m733\u001b[39m data = \u001b[38;5;28;43mself\u001b[39;49m\u001b[43m.\u001b[49m\u001b[43m_next_data\u001b[49m\u001b[43m(\u001b[49m\u001b[43m)\u001b[49m\n\u001b[32m    734\u001b[39m \u001b[38;5;28mself\u001b[39m._num_yielded += \u001b[32m1\u001b[39m\n",
      "\u001b[36mFile \u001b[39m\u001b[32m~/Desktop/projects/watchlist/watchlist-recommender/.venv/lib/python3.13/site-packages/torch/utils/data/dataloader.py:789\u001b[39m, in \u001b[36m_SingleProcessDataLoaderIter._next_data\u001b[39m\u001b[34m(self)\u001b[39m\n\u001b[32m    788\u001b[39m index = \u001b[38;5;28mself\u001b[39m._next_index()  \u001b[38;5;66;03m# may raise StopIteration\u001b[39;00m\n\u001b[32m--> \u001b[39m\u001b[32m789\u001b[39m data = \u001b[38;5;28;43mself\u001b[39;49m\u001b[43m.\u001b[49m\u001b[43m_dataset_fetcher\u001b[49m\u001b[43m.\u001b[49m\u001b[43mfetch\u001b[49m\u001b[43m(\u001b[49m\u001b[43mindex\u001b[49m\u001b[43m)\u001b[49m  \u001b[38;5;66;03m# may raise StopIteration\u001b[39;00m\n\u001b[32m    790\u001b[39m \u001b[38;5;28;01mif\u001b[39;00m \u001b[38;5;28mself\u001b[39m._pin_memory:\n",
      "\u001b[36mFile \u001b[39m\u001b[32m~/Desktop/projects/watchlist/watchlist-recommender/.venv/lib/python3.13/site-packages/torch/utils/data/_utils/fetch.py:52\u001b[39m, in \u001b[36m_MapDatasetFetcher.fetch\u001b[39m\u001b[34m(self, possibly_batched_index)\u001b[39m\n\u001b[32m     51\u001b[39m     \u001b[38;5;28;01melse\u001b[39;00m:\n\u001b[32m---> \u001b[39m\u001b[32m52\u001b[39m         data = [\u001b[38;5;28;43mself\u001b[39;49m\u001b[43m.\u001b[49m\u001b[43mdataset\u001b[49m\u001b[43m[\u001b[49m\u001b[43midx\u001b[49m\u001b[43m]\u001b[49m \u001b[38;5;28;01mfor\u001b[39;00m idx \u001b[38;5;129;01min\u001b[39;00m possibly_batched_index]\n\u001b[32m     53\u001b[39m \u001b[38;5;28;01melse\u001b[39;00m:\n",
      "\u001b[36mCell\u001b[39m\u001b[36m \u001b[39m\u001b[32mIn[108]\u001b[39m\u001b[32m, line 15\u001b[39m, in \u001b[36mMovieLensDataset.__getitem__\u001b[39m\u001b[34m(self, idx)\u001b[39m\n\u001b[32m     14\u001b[39m rating = \u001b[38;5;28mself\u001b[39m.dataframe[\u001b[33m\"\u001b[39m\u001b[33mrating\u001b[39m\u001b[33m\"\u001b[39m].iloc[idx]\n\u001b[32m---> \u001b[39m\u001b[32m15\u001b[39m text_features = \u001b[38;5;28;43mself\u001b[39;49m\u001b[43m.\u001b[49m\u001b[43mdataframe\u001b[49m\u001b[43m[\u001b[49m\u001b[43m[\u001b[49m\u001b[33;43mf\u001b[39;49m\u001b[33;43m\"\u001b[39;49m\u001b[33;43mfeature_\u001b[39;49m\u001b[38;5;132;43;01m{\u001b[39;49;00m\u001b[43mx\u001b[49m\u001b[38;5;132;43;01m}\u001b[39;49;00m\u001b[33;43m\"\u001b[39;49m\u001b[43m \u001b[49m\u001b[38;5;28;43;01mfor\u001b[39;49;00m\u001b[43m \u001b[49m\u001b[43mx\u001b[49m\u001b[43m \u001b[49m\u001b[38;5;129;43;01min\u001b[39;49;00m\u001b[43m \u001b[49m\u001b[38;5;28;43mrange\u001b[39;49m\u001b[43m(\u001b[49m\u001b[32;43m5\u001b[39;49m\u001b[43m)\u001b[49m\u001b[43m]\u001b[49m\u001b[43m]\u001b[49m.iloc[idx]\n\u001b[32m     16\u001b[39m \u001b[38;5;28;01mreturn\u001b[39;00m (\n\u001b[32m     17\u001b[39m     torch.tensor(user_id, dtype=torch.long),\n\u001b[32m     18\u001b[39m     torch.tensor(movie_id, dtype=torch.long),\n\u001b[32m     19\u001b[39m     torch.tensor(rating, dtype=torch.float),\n\u001b[32m     20\u001b[39m     torch.tensor(text_features, dtype=torch.float)\n\u001b[32m     21\u001b[39m )\n",
      "\u001b[36mFile \u001b[39m\u001b[32m~/Desktop/projects/watchlist/watchlist-recommender/.venv/lib/python3.13/site-packages/pandas/core/frame.py:4122\u001b[39m, in \u001b[36mDataFrame.__getitem__\u001b[39m\u001b[34m(self, key)\u001b[39m\n\u001b[32m   4120\u001b[39m     \u001b[38;5;28;01mreturn\u001b[39;00m \u001b[38;5;28mself\u001b[39m._slice(indexer, axis=\u001b[32m1\u001b[39m)\n\u001b[32m-> \u001b[39m\u001b[32m4122\u001b[39m data = \u001b[38;5;28;43mself\u001b[39;49m\u001b[43m.\u001b[49m\u001b[43m_take_with_is_copy\u001b[49m\u001b[43m(\u001b[49m\u001b[43mindexer\u001b[49m\u001b[43m,\u001b[49m\u001b[43m \u001b[49m\u001b[43maxis\u001b[49m\u001b[43m=\u001b[49m\u001b[32;43m1\u001b[39;49m\u001b[43m)\u001b[49m\n\u001b[32m   4124\u001b[39m \u001b[38;5;28;01mif\u001b[39;00m is_single_key:\n\u001b[32m   4125\u001b[39m     \u001b[38;5;66;03m# What does looking for a single key in a non-unique index return?\u001b[39;00m\n\u001b[32m   4126\u001b[39m     \u001b[38;5;66;03m# The behavior is inconsistent. It returns a Series, except when\u001b[39;00m\n\u001b[32m   4127\u001b[39m     \u001b[38;5;66;03m# - the key itself is repeated (test on data.shape, #9519), or\u001b[39;00m\n\u001b[32m   4128\u001b[39m     \u001b[38;5;66;03m# - we have a MultiIndex on columns (test on self.columns, #21309)\u001b[39;00m\n",
      "\u001b[36mFile \u001b[39m\u001b[32m~/Desktop/projects/watchlist/watchlist-recommender/.venv/lib/python3.13/site-packages/pandas/core/generic.py:4172\u001b[39m, in \u001b[36mNDFrame._take_with_is_copy\u001b[39m\u001b[34m(self, indices, axis)\u001b[39m\n\u001b[32m   4163\u001b[39m \u001b[38;5;250m\u001b[39m\u001b[33;03m\"\"\"\u001b[39;00m\n\u001b[32m   4164\u001b[39m \u001b[33;03mInternal version of the `take` method that sets the `_is_copy`\u001b[39;00m\n\u001b[32m   4165\u001b[39m \u001b[33;03mattribute to keep track of the parent dataframe (using in indexing\u001b[39;00m\n\u001b[32m   (...)\u001b[39m\u001b[32m   4170\u001b[39m \u001b[33;03mSee the docstring of `take` for full explanation of the parameters.\u001b[39;00m\n\u001b[32m   4171\u001b[39m \u001b[33;03m\"\"\"\u001b[39;00m\n\u001b[32m-> \u001b[39m\u001b[32m4172\u001b[39m result = \u001b[38;5;28;43mself\u001b[39;49m\u001b[43m.\u001b[49m\u001b[43mtake\u001b[49m\u001b[43m(\u001b[49m\u001b[43mindices\u001b[49m\u001b[43m=\u001b[49m\u001b[43mindices\u001b[49m\u001b[43m,\u001b[49m\u001b[43m \u001b[49m\u001b[43maxis\u001b[49m\u001b[43m=\u001b[49m\u001b[43maxis\u001b[49m\u001b[43m)\u001b[49m\n\u001b[32m   4173\u001b[39m \u001b[38;5;66;03m# Maybe set copy if we didn't actually change the index.\u001b[39;00m\n",
      "\u001b[36mFile \u001b[39m\u001b[32m~/Desktop/projects/watchlist/watchlist-recommender/.venv/lib/python3.13/site-packages/pandas/core/generic.py:4152\u001b[39m, in \u001b[36mNDFrame.take\u001b[39m\u001b[34m(self, indices, axis, **kwargs)\u001b[39m\n\u001b[32m   4148\u001b[39m     indices = np.arange(\n\u001b[32m   4149\u001b[39m         indices.start, indices.stop, indices.step, dtype=np.intp\n\u001b[32m   4150\u001b[39m     )\n\u001b[32m-> \u001b[39m\u001b[32m4152\u001b[39m new_data = \u001b[38;5;28;43mself\u001b[39;49m\u001b[43m.\u001b[49m\u001b[43m_mgr\u001b[49m\u001b[43m.\u001b[49m\u001b[43mtake\u001b[49m\u001b[43m(\u001b[49m\n\u001b[32m   4153\u001b[39m \u001b[43m    \u001b[49m\u001b[43mindices\u001b[49m\u001b[43m,\u001b[49m\n\u001b[32m   4154\u001b[39m \u001b[43m    \u001b[49m\u001b[43maxis\u001b[49m\u001b[43m=\u001b[49m\u001b[38;5;28;43mself\u001b[39;49m\u001b[43m.\u001b[49m\u001b[43m_get_block_manager_axis\u001b[49m\u001b[43m(\u001b[49m\u001b[43maxis\u001b[49m\u001b[43m)\u001b[49m\u001b[43m,\u001b[49m\n\u001b[32m   4155\u001b[39m \u001b[43m    \u001b[49m\u001b[43mverify\u001b[49m\u001b[43m=\u001b[49m\u001b[38;5;28;43;01mTrue\u001b[39;49;00m\u001b[43m,\u001b[49m\n\u001b[32m   4156\u001b[39m \u001b[43m\u001b[49m\u001b[43m)\u001b[49m\n\u001b[32m   4157\u001b[39m \u001b[38;5;28;01mreturn\u001b[39;00m \u001b[38;5;28mself\u001b[39m._constructor_from_mgr(new_data, axes=new_data.axes).__finalize__(\n\u001b[32m   4158\u001b[39m     \u001b[38;5;28mself\u001b[39m, method=\u001b[33m\"\u001b[39m\u001b[33mtake\u001b[39m\u001b[33m\"\u001b[39m\n\u001b[32m   4159\u001b[39m )\n",
      "\u001b[36mFile \u001b[39m\u001b[32m~/Desktop/projects/watchlist/watchlist-recommender/.venv/lib/python3.13/site-packages/pandas/core/internals/managers.py:894\u001b[39m, in \u001b[36mBaseBlockManager.take\u001b[39m\u001b[34m(self, indexer, axis, verify)\u001b[39m\n\u001b[32m    893\u001b[39m new_labels = \u001b[38;5;28mself\u001b[39m.axes[axis].take(indexer)\n\u001b[32m--> \u001b[39m\u001b[32m894\u001b[39m \u001b[38;5;28;01mreturn\u001b[39;00m \u001b[38;5;28;43mself\u001b[39;49m\u001b[43m.\u001b[49m\u001b[43mreindex_indexer\u001b[49m\u001b[43m(\u001b[49m\n\u001b[32m    895\u001b[39m \u001b[43m    \u001b[49m\u001b[43mnew_axis\u001b[49m\u001b[43m=\u001b[49m\u001b[43mnew_labels\u001b[49m\u001b[43m,\u001b[49m\n\u001b[32m    896\u001b[39m \u001b[43m    \u001b[49m\u001b[43mindexer\u001b[49m\u001b[43m=\u001b[49m\u001b[43mindexer\u001b[49m\u001b[43m,\u001b[49m\n\u001b[32m    897\u001b[39m \u001b[43m    \u001b[49m\u001b[43maxis\u001b[49m\u001b[43m=\u001b[49m\u001b[43maxis\u001b[49m\u001b[43m,\u001b[49m\n\u001b[32m    898\u001b[39m \u001b[43m    \u001b[49m\u001b[43mallow_dups\u001b[49m\u001b[43m=\u001b[49m\u001b[38;5;28;43;01mTrue\u001b[39;49;00m\u001b[43m,\u001b[49m\n\u001b[32m    899\u001b[39m \u001b[43m    \u001b[49m\u001b[43mcopy\u001b[49m\u001b[43m=\u001b[49m\u001b[38;5;28;43;01mNone\u001b[39;49;00m\u001b[43m,\u001b[49m\n\u001b[32m    900\u001b[39m \u001b[43m\u001b[49m\u001b[43m)\u001b[49m\n",
      "\u001b[36mFile \u001b[39m\u001b[32m~/Desktop/projects/watchlist/watchlist-recommender/.venv/lib/python3.13/site-packages/pandas/core/internals/managers.py:680\u001b[39m, in \u001b[36mBaseBlockManager.reindex_indexer\u001b[39m\u001b[34m(self, new_axis, indexer, axis, fill_value, allow_dups, copy, only_slice, use_na_proxy)\u001b[39m\n\u001b[32m    679\u001b[39m \u001b[38;5;28;01mif\u001b[39;00m axis == \u001b[32m0\u001b[39m:\n\u001b[32m--> \u001b[39m\u001b[32m680\u001b[39m     new_blocks = \u001b[38;5;28;43mself\u001b[39;49m\u001b[43m.\u001b[49m\u001b[43m_slice_take_blocks_ax0\u001b[49m\u001b[43m(\u001b[49m\n\u001b[32m    681\u001b[39m \u001b[43m        \u001b[49m\u001b[43mindexer\u001b[49m\u001b[43m,\u001b[49m\n\u001b[32m    682\u001b[39m \u001b[43m        \u001b[49m\u001b[43mfill_value\u001b[49m\u001b[43m=\u001b[49m\u001b[43mfill_value\u001b[49m\u001b[43m,\u001b[49m\n\u001b[32m    683\u001b[39m \u001b[43m        \u001b[49m\u001b[43monly_slice\u001b[49m\u001b[43m=\u001b[49m\u001b[43monly_slice\u001b[49m\u001b[43m,\u001b[49m\n\u001b[32m    684\u001b[39m \u001b[43m        \u001b[49m\u001b[43muse_na_proxy\u001b[49m\u001b[43m=\u001b[49m\u001b[43muse_na_proxy\u001b[49m\u001b[43m,\u001b[49m\n\u001b[32m    685\u001b[39m \u001b[43m    \u001b[49m\u001b[43m)\u001b[49m\n\u001b[32m    686\u001b[39m \u001b[38;5;28;01melse\u001b[39;00m:\n",
      "\u001b[36mFile \u001b[39m\u001b[32m~/Desktop/projects/watchlist/watchlist-recommender/.venv/lib/python3.13/site-packages/pandas/core/internals/managers.py:843\u001b[39m, in \u001b[36mBaseBlockManager._slice_take_blocks_ax0\u001b[39m\u001b[34m(self, slice_or_indexer, fill_value, only_slice, use_na_proxy, ref_inplace_op)\u001b[39m\n\u001b[32m    842\u001b[39m \u001b[38;5;28;01melse\u001b[39;00m:\n\u001b[32m--> \u001b[39m\u001b[32m843\u001b[39m     nb = \u001b[43mblk\u001b[49m\u001b[43m.\u001b[49m\u001b[43mtake_nd\u001b[49m\u001b[43m(\u001b[49m\u001b[43mtaker\u001b[49m\u001b[43m,\u001b[49m\u001b[43m \u001b[49m\u001b[43maxis\u001b[49m\u001b[43m=\u001b[49m\u001b[32;43m0\u001b[39;49m\u001b[43m,\u001b[49m\u001b[43m \u001b[49m\u001b[43mnew_mgr_locs\u001b[49m\u001b[43m=\u001b[49m\u001b[43mmgr_locs\u001b[49m\u001b[43m)\u001b[49m\n\u001b[32m    844\u001b[39m     blocks.append(nb)\n",
      "\u001b[36mFile \u001b[39m\u001b[32m~/Desktop/projects/watchlist/watchlist-recommender/.venv/lib/python3.13/site-packages/pandas/core/internals/blocks.py:1373\u001b[39m, in \u001b[36mBlock.take_nd\u001b[39m\u001b[34m(self, indexer, axis, new_mgr_locs, fill_value)\u001b[39m\n\u001b[32m   1372\u001b[39m \u001b[38;5;66;03m# Note: algos.take_nd has upcast logic similar to coerce_to_target_dtype\u001b[39;00m\n\u001b[32m-> \u001b[39m\u001b[32m1373\u001b[39m new_values = \u001b[43malgos\u001b[49m\u001b[43m.\u001b[49m\u001b[43mtake_nd\u001b[49m\u001b[43m(\u001b[49m\n\u001b[32m   1374\u001b[39m \u001b[43m    \u001b[49m\u001b[43mvalues\u001b[49m\u001b[43m,\u001b[49m\u001b[43m \u001b[49m\u001b[43mindexer\u001b[49m\u001b[43m,\u001b[49m\u001b[43m \u001b[49m\u001b[43maxis\u001b[49m\u001b[43m=\u001b[49m\u001b[43maxis\u001b[49m\u001b[43m,\u001b[49m\u001b[43m \u001b[49m\u001b[43mallow_fill\u001b[49m\u001b[43m=\u001b[49m\u001b[43mallow_fill\u001b[49m\u001b[43m,\u001b[49m\u001b[43m \u001b[49m\u001b[43mfill_value\u001b[49m\u001b[43m=\u001b[49m\u001b[43mfill_value\u001b[49m\n\u001b[32m   1375\u001b[39m \u001b[43m\u001b[49m\u001b[43m)\u001b[49m\n\u001b[32m   1377\u001b[39m \u001b[38;5;66;03m# Called from three places in managers, all of which satisfy\u001b[39;00m\n\u001b[32m   1378\u001b[39m \u001b[38;5;66;03m#  these assertions\u001b[39;00m\n",
      "\u001b[36mFile \u001b[39m\u001b[32m~/Desktop/projects/watchlist/watchlist-recommender/.venv/lib/python3.13/site-packages/pandas/core/array_algos/take.py:117\u001b[39m, in \u001b[36mtake_nd\u001b[39m\u001b[34m(arr, indexer, axis, fill_value, allow_fill)\u001b[39m\n\u001b[32m    116\u001b[39m arr = np.asarray(arr)\n\u001b[32m--> \u001b[39m\u001b[32m117\u001b[39m \u001b[38;5;28;01mreturn\u001b[39;00m \u001b[43m_take_nd_ndarray\u001b[49m\u001b[43m(\u001b[49m\u001b[43marr\u001b[49m\u001b[43m,\u001b[49m\u001b[43m \u001b[49m\u001b[43mindexer\u001b[49m\u001b[43m,\u001b[49m\u001b[43m \u001b[49m\u001b[43maxis\u001b[49m\u001b[43m,\u001b[49m\u001b[43m \u001b[49m\u001b[43mfill_value\u001b[49m\u001b[43m,\u001b[49m\u001b[43m \u001b[49m\u001b[43mallow_fill\u001b[49m\u001b[43m)\u001b[49m\n",
      "\u001b[36mFile \u001b[39m\u001b[32m~/Desktop/projects/watchlist/watchlist-recommender/.venv/lib/python3.13/site-packages/pandas/core/array_algos/take.py:162\u001b[39m, in \u001b[36m_take_nd_ndarray\u001b[39m\u001b[34m(arr, indexer, axis, fill_value, allow_fill)\u001b[39m\n\u001b[32m    159\u001b[39m func = _get_take_nd_function(\n\u001b[32m    160\u001b[39m     arr.ndim, arr.dtype, out.dtype, axis=axis, mask_info=mask_info\n\u001b[32m    161\u001b[39m )\n\u001b[32m--> \u001b[39m\u001b[32m162\u001b[39m \u001b[43mfunc\u001b[49m\u001b[43m(\u001b[49m\u001b[43marr\u001b[49m\u001b[43m,\u001b[49m\u001b[43m \u001b[49m\u001b[43mindexer\u001b[49m\u001b[43m,\u001b[49m\u001b[43m \u001b[49m\u001b[43mout\u001b[49m\u001b[43m,\u001b[49m\u001b[43m \u001b[49m\u001b[43mfill_value\u001b[49m\u001b[43m)\u001b[49m\n\u001b[32m    164\u001b[39m \u001b[38;5;28;01mif\u001b[39;00m flip_order:\n",
      "\u001b[31mKeyboardInterrupt\u001b[39m: ",
      "\nDuring handling of the above exception, another exception occurred:\n",
      "\u001b[31mNameError\u001b[39m                                 Traceback (most recent call last)",
      "\u001b[36mCell\u001b[39m\u001b[36m \u001b[39m\u001b[32mIn[127]\u001b[39m\u001b[32m, line 12\u001b[39m\n\u001b[32m      1\u001b[39m logger = TensorBoardLogger(\u001b[33m\"\u001b[39m\u001b[33mlightning_logs\u001b[39m\u001b[33m\"\u001b[39m, name=\u001b[33m\"\u001b[39m\u001b[33mnn_mf\u001b[39m\u001b[33m\"\u001b[39m)\n\u001b[32m      2\u001b[39m trainer = L.Trainer(\n\u001b[32m      3\u001b[39m     max_epochs=\u001b[32m50\u001b[39m,\n\u001b[32m      4\u001b[39m     precision=\u001b[32m16\u001b[39m,\n\u001b[32m   (...)\u001b[39m\u001b[32m     10\u001b[39m     ]\n\u001b[32m     11\u001b[39m )\n\u001b[32m---> \u001b[39m\u001b[32m12\u001b[39m \u001b[43mtrainer\u001b[49m\u001b[43m.\u001b[49m\u001b[43mfit\u001b[49m\u001b[43m(\u001b[49m\u001b[43mmodel\u001b[49m\u001b[43m,\u001b[49m\u001b[43m \u001b[49m\u001b[43mtrain_data\u001b[49m\u001b[43m,\u001b[49m\u001b[43m \u001b[49m\u001b[43mval_data\u001b[49m\u001b[43m)\u001b[49m\n",
      "\u001b[36mFile \u001b[39m\u001b[32m~/Desktop/projects/watchlist/watchlist-recommender/.venv/lib/python3.13/site-packages/lightning/pytorch/trainer/trainer.py:561\u001b[39m, in \u001b[36mTrainer.fit\u001b[39m\u001b[34m(self, model, train_dataloaders, val_dataloaders, datamodule, ckpt_path)\u001b[39m\n\u001b[32m    559\u001b[39m \u001b[38;5;28mself\u001b[39m.training = \u001b[38;5;28;01mTrue\u001b[39;00m\n\u001b[32m    560\u001b[39m \u001b[38;5;28mself\u001b[39m.should_stop = \u001b[38;5;28;01mFalse\u001b[39;00m\n\u001b[32m--> \u001b[39m\u001b[32m561\u001b[39m \u001b[43mcall\u001b[49m\u001b[43m.\u001b[49m\u001b[43m_call_and_handle_interrupt\u001b[49m\u001b[43m(\u001b[49m\n\u001b[32m    562\u001b[39m \u001b[43m    \u001b[49m\u001b[38;5;28;43mself\u001b[39;49m\u001b[43m,\u001b[49m\u001b[43m \u001b[49m\u001b[38;5;28;43mself\u001b[39;49m\u001b[43m.\u001b[49m\u001b[43m_fit_impl\u001b[49m\u001b[43m,\u001b[49m\u001b[43m \u001b[49m\u001b[43mmodel\u001b[49m\u001b[43m,\u001b[49m\u001b[43m \u001b[49m\u001b[43mtrain_dataloaders\u001b[49m\u001b[43m,\u001b[49m\u001b[43m \u001b[49m\u001b[43mval_dataloaders\u001b[49m\u001b[43m,\u001b[49m\u001b[43m \u001b[49m\u001b[43mdatamodule\u001b[49m\u001b[43m,\u001b[49m\u001b[43m \u001b[49m\u001b[43mckpt_path\u001b[49m\n\u001b[32m    563\u001b[39m \u001b[43m\u001b[49m\u001b[43m)\u001b[49m\n",
      "\u001b[36mFile \u001b[39m\u001b[32m~/Desktop/projects/watchlist/watchlist-recommender/.venv/lib/python3.13/site-packages/lightning/pytorch/trainer/call.py:65\u001b[39m, in \u001b[36m_call_and_handle_interrupt\u001b[39m\u001b[34m(trainer, trainer_fn, *args, **kwargs)\u001b[39m\n\u001b[32m     63\u001b[39m     \u001b[38;5;28;01mif\u001b[39;00m \u001b[38;5;28misinstance\u001b[39m(launcher, _SubprocessScriptLauncher):\n\u001b[32m     64\u001b[39m         launcher.kill(_get_sigkill_signal())\n\u001b[32m---> \u001b[39m\u001b[32m65\u001b[39m     \u001b[43mexit\u001b[49m(\u001b[32m1\u001b[39m)\n\u001b[32m     67\u001b[39m \u001b[38;5;28;01mexcept\u001b[39;00m \u001b[38;5;167;01mBaseException\u001b[39;00m \u001b[38;5;28;01mas\u001b[39;00m exception:\n\u001b[32m     68\u001b[39m     _interrupt(trainer, exception)\n",
      "\u001b[31mNameError\u001b[39m: name 'exit' is not defined"
     ]
    }
   ],
   "source": [
    "logger = TensorBoardLogger(\"lightning_logs\", name=\"nn_mf\")\n",
    "trainer = L.Trainer(\n",
    "    max_epochs=50,\n",
    "    precision=16,\n",
    "    logger=logger,\n",
    "    enable_progress_bar=False,\n",
    "    callbacks=[\n",
    "        EarlyStopping(monitor=\"validation_loss\", mode=\"min\", min_delta=0.01),\n",
    "        checkpoint_callback   \n",
    "    ]\n",
    ")\n",
    "trainer.fit(model, train_data, val_data)"
   ]
  },
  {
   "cell_type": "markdown",
   "id": "89fc57e4-d8ae-4876-93a6-35df2001cd04",
   "metadata": {},
   "source": [
    "### Content Only"
   ]
  },
  {
   "cell_type": "code",
   "execution_count": null,
   "id": "c98a715c-03e4-4a7f-a6dc-3fe19a883790",
   "metadata": {},
   "outputs": [],
   "source": [
    "class ContentModel(L.LightningModule):\n",
    "    def __init__(self, num_movies, embedding_dim):\n",
    "        super().__init__()\n",
    "        self.movie_embedding = nn.Embedding(num_movies, embedding_dim)\n",
    "        self.text_embedding = nn.Embedding(num_movies, embedding_dim)\n",
    "        self.embedding_dim = embedding_dim\n",
    "\n",
    "    def forward(self, movie_id, text_features):\n",
    "        movie_vector = self.movie_embedding(movie_id)\n",
    "        m = nn.ZeroPad1d((0, self.embedding_dim - text_features.shape[1]))\n",
    "        text_vector = m(text_features)\n",
    "        return (movie_vector * text_vector).sum(1)\n",
    "\n",
    "    def training_step(self, batch, batch_idx):\n",
    "        item_id, rating, text_features = batch\n",
    "        prediction = self(item_id, text_features)\n",
    "        loss = nn.functional.mse_loss(prediction, rating)\n",
    "        self.log('train_loss', loss)\n",
    "        return loss\n",
    "\n",
    "    def validation_step(self, batch, batch_idx):\n",
    "        item_id, rating, text_features = batch\n",
    "        prediction = self(user_id, item_id, text_features)\n",
    "        loss = nn.functional.mse_loss(prediction, rating)\n",
    "        self.log('validation_loss', loss)\n",
    "        return {'validation_loss': loss, 'y_hat': prediction, 'y': rating}\n",
    "\n",
    "    def configure_optimizers(self):\n",
    "        return optim.SGD(self.parameters(), lr=0.01)"
   ]
  },
  {
   "cell_type": "code",
   "execution_count": null,
   "id": "ba85b1f9-9bb2-4259-ab19-7f534ea299cb",
   "metadata": {},
   "outputs": [],
   "source": [
    "class TMDBDataset(Dataset):\n",
    "    def __init__(self, dataframe=None):\n",
    "        self.dataframe = dataframe\n",
    "        self.num_items = self.dataframe['movie_id'].nunique()\n",
    "        self.text_items = self.dataframe['movie_id'].nunique()\n",
    "\n",
    "    def __len__(self):\n",
    "        return len(self.dataframe)\n",
    "\n",
    "    def __getitem__(self, idx):\n",
    "        movie_id = self.dataframe[\"movie_id\"].iloc[idx]\n",
    "        rating = self.dataframe[\"rating\"].iloc[idx]\n",
    "        text_features = self.dataframe[[f\"feature_{x}\" for x in range(5)]].iloc[idx]\n",
    "        return (\n",
    "            torch.tensor(movie_id, dtype=torch.long),\n",
    "            torch.tensor(rating, dtype=torch.float),\n",
    "            torch.tensor(text_features, dtype=torch.float)\n",
    "        )"
   ]
  },
  {
   "cell_type": "code",
   "execution_count": null,
   "id": "062e77ce-a6dc-424f-9ed7-5febb809f98f",
   "metadata": {},
   "outputs": [],
   "source": [
    "train_df, test_df = train_test_split(full_dataset, test_size=0.7)\n",
    "test_df, val_df = train_test_split(test_df, test_size=0.5)\n",
    "\n",
    "train_dataset = MovieLensDataset(train_df)\n",
    "val_dataset = MovieLensDataset(val_df)\n",
    "test_dataset = MovieLensDataset(test_df)"
   ]
  },
  {
   "cell_type": "markdown",
   "id": "d6c86825-1c44-43b0-a3fc-523bb9b42df2",
   "metadata": {},
   "source": [
    "#### Evaluation / Prediction"
   ]
  },
  {
   "cell_type": "code",
   "execution_count": null,
   "id": "88d21342-ad74-44da-9b39-55a5f2b6ac5c",
   "metadata": {},
   "outputs": [],
   "source": [
    "best_model = MatrixFactorization.load_from_checkpoint(\n",
    "    \"./checkpoints/best-checkpoint-nn-mf-v2.ckpt\"\n",
    ")"
   ]
  },
  {
   "cell_type": "code",
   "execution_count": null,
   "id": "b5bccc45-011f-4caf-a1bf-21ffc7cd3674",
   "metadata": {},
   "outputs": [],
   "source": [
    "trainer = L.Trainer(enable_progress_bar=True)\n",
    "trainer.test(dataloaders=test_data)"
   ]
  },
  {
   "cell_type": "code",
   "execution_count": null,
   "id": "cef61280-5d9f-47c1-97d2-e1d9f0f35b3a",
   "metadata": {},
   "outputs": [],
   "source": [
    "model = MatrixFactorization.load_from_checkpoint(\n",
    "    checkpoints_path[0], num_users=num_users, num_items=num_items, embedding_dim=embedding_dim\n",
    ").cpu()"
   ]
  },
  {
   "cell_type": "code",
   "execution_count": null,
   "id": "10868cc3-4b02-48be-aa2b-2aaedc484e08",
   "metadata": {},
   "outputs": [],
   "source": [
    "def predict_for_user(model, user_id, num_items, text_data, embedding_size=20, top_nb=10):\n",
    "    model.eval()  # Set model to evaluation mode\n",
    "    user_id_tensor = torch.tensor([user_id] * num_items, dtype=torch.long)\n",
    "    movie_id_tensor = torch.tensor(range(num_items), dtype=torch.long)\n",
    "\n",
    "    m = nn.ZeroPad1d((0, embedding_size - text_data.shape[0]))\n",
    "    text_vector = m(text_data)\n",
    "    \n",
    "    with torch.no_grad():  # Disable gradient calculation\n",
    "        predictions = model(user_id_tensor, item_id_tensor, movie_id_tensor, text_vector)\n",
    "    \n",
    "    top = sorted(enumerate(predictions), reverse=True, key=lambda i: i[1])\n",
    "    print(f\"Predicted rating for User `{user_id + 1}` with best:\")\n",
    "    for item_id, pred in top[:top_nb]:\n",
    "        print(f\"\\t-> Item {item_id + 1}: {pred.item():.2f}\")"
   ]
  }
 ],
 "metadata": {
  "kernelspec": {
   "display_name": "Python 3 (ipykernel)",
   "language": "python",
   "name": "python3"
  },
  "language_info": {
   "codemirror_mode": {
    "name": "ipython",
    "version": 3
   },
   "file_extension": ".py",
   "mimetype": "text/x-python",
   "name": "python",
   "nbconvert_exporter": "python",
   "pygments_lexer": "ipython3",
   "version": "3.13.5"
  }
 },
 "nbformat": 4,
 "nbformat_minor": 5
}
