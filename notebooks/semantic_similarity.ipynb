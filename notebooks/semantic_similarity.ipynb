{
 "cells": [
  {
   "cell_type": "code",
   "execution_count": 1,
   "id": "2a814b07-7f3d-403c-8b9b-f800b5106150",
   "metadata": {},
   "outputs": [
    {
     "name": "stdout",
     "output_type": "stream",
     "text": [
      "/Users/westford14/Desktop/projects/watchlist/watchlist-recommender\n"
     ]
    }
   ],
   "source": [
    "%cd .."
   ]
  },
  {
   "cell_type": "code",
   "execution_count": 77,
   "id": "3b62c42a-6371-4e7c-b501-5869b7ca9b4f",
   "metadata": {},
   "outputs": [],
   "source": [
    "import json\n",
    "import logging\n",
    "import os\n",
    "from ast import literal_eval\n",
    "from collections import Counter, defaultdict\n",
    "from typing import Any, List, Optional, Tuple\n",
    "\n",
    "import faiss\n",
    "import numpy as np\n",
    "import pandas as pd\n",
    "import torch\n",
    "from sentence_transformers import SentenceTransformer\n",
    "from sklearn.cluster import KMeans\n",
    "from tqdm import tqdm\n",
    "from umap import UMAP"
   ]
  },
  {
   "cell_type": "code",
   "execution_count": 3,
   "id": "762dd9a0-dadd-4ce6-943d-df8536365864",
   "metadata": {},
   "outputs": [],
   "source": [
    "torch.set_num_threads(1)"
   ]
  },
  {
   "cell_type": "code",
   "execution_count": 78,
   "id": "f41d5ee6-1661-4e2c-aa4a-4921eb1ce29e",
   "metadata": {},
   "outputs": [],
   "source": [
    "class SimilarityMeasure:\n",
    "    def __init__(\n",
    "        self,\n",
    "        embed_model_name: str = \"all-MiniLM-L6-v2\",\n",
    "        embed_device: str = \"cpu\",\n",
    "        embed_batch_size: int = 64,\n",
    "        embed_max_seq_length: int = 512,\n",
    "        umap_components: int = 20,\n",
    "        umap_metric: str = \"euclidean\",\n",
    "    ) -> None:\n",
    "        self.embed_model_name = embed_model_name\n",
    "        self.embed_device = embed_device\n",
    "        self.embed_batch_size = embed_batch_size\n",
    "        self.embed_max_seq_length = embed_max_seq_length\n",
    "\n",
    "        self.umap_components = umap_components\n",
    "        self.umap_metric = umap_metric\n",
    "\n",
    "        self.embeddings = None\n",
    "        self.faiss_index = None\n",
    "        self.cluster_labels = None\n",
    "        self.texts = None\n",
    "        self.projections = None\n",
    "        self.umap_mapper = None\n",
    "\n",
    "        self.embed_model = SentenceTransformer(\n",
    "            self.embed_model_name, device=self.embed_device\n",
    "        )\n",
    "        self.embed_model.max_seq_length = self.embed_max_seq_length\n",
    "\n",
    "        self.index_to_id = None\n",
    "\n",
    "    def fit(\n",
    "        self,\n",
    "        texts: List[str],\n",
    "        ids: List[int],\n",
    "        embeddings: Optional[Any] = None\n",
    "    ) -> Tuple[List[Any], List[int]]:\n",
    "        self.texts = texts\n",
    "\n",
    "        if embeddings is None:\n",
    "            logging.info(\"embedding texts...\")\n",
    "            self.embeddings = self.embed(texts)\n",
    "        else:\n",
    "            logging.info(\"using precomputed embeddings...\")\n",
    "            self.embeddings = embeddings\n",
    "\n",
    "        logging.info(\"building faiss index...\")\n",
    "        self.faiss_index = self.build_faiss_index(self.embeddings)\n",
    "        self.index_to_id = dict(zip(list(range(self.faiss_index.ntotal)), ids))\n",
    "        logging.info(\"projecting with umap...\")\n",
    "        self.projections, self.umap_mapper = self.project(self.embeddings)\n",
    "        return self.embeddings\n",
    "\n",
    "    def infer(self, texts: List[str], top_k: int = 1) -> Tuple[List[int], List[Any]]:\n",
    "        embeddings = self.embed(texts)\n",
    "        _, neighbours = self.faiss_index.search(embeddings, top_k)\n",
    "\n",
    "        return neighbours, embeddings\n",
    "\n",
    "    def embed(self, texts: List[str]) -> List[Any]:\n",
    "        embeddings = self.embed_model.encode(\n",
    "            texts,\n",
    "            batch_size=self.embed_batch_size,\n",
    "            show_progress_bar=True,\n",
    "            convert_to_numpy=True,\n",
    "            normalize_embeddings=True,\n",
    "        )\n",
    "\n",
    "        return embeddings\n",
    "\n",
    "    def project(self, embeddings: List[Any]) -> Tuple[List[Any], UMAP]:\n",
    "        mapper = UMAP(n_components=self.umap_components, metric=self.umap_metric).fit(\n",
    "            embeddings\n",
    "        )\n",
    "        return mapper.embedding_, mapper\n",
    "\n",
    "    def build_faiss_index(self, embeddings: List[Any]) -> List[int]:\n",
    "        index = faiss.IndexFlatL2(embeddings.shape[1])\n",
    "        index.add(embeddings)\n",
    "        return index\n",
    "\n",
    "    def save(self, folder: str) -> None:\n",
    "        if not os.path.exists(folder):\n",
    "            os.makedirs(folder)\n",
    "\n",
    "        with open(f\"{folder}/embeddings.npy\", \"wb\") as f:\n",
    "            np.save(f, self.embeddings)\n",
    "\n",
    "        with open(f\"{folder}/index_to_label.json\", \"w\") as f:\n",
    "            json.dump(self.index_to_label, f)\n",
    "\n",
    "        faiss.write_index(self.faiss_index, f\"{folder}/faiss.index\")\n",
    "\n",
    "    def load(self, folder: str) -> None:\n",
    "        if not os.path.exists(folder):\n",
    "            raise ValueError(f\"The folder '{folder}' does not exsit.\")\n",
    "\n",
    "        with open(f\"{folder}/embeddings.npy\", \"rb\") as f:\n",
    "            self.embeddings = np.load(f)\n",
    "\n",
    "        with open(f\"{folder}/index_to_label.json\", \"r\") as f:\n",
    "            self.index_to_label = json.load(f)\n",
    "\n",
    "        self.faiss_index = faiss.read_index(f\"{folder}/faiss.index\")"
   ]
  },
  {
   "cell_type": "markdown",
   "id": "199363f3-0b91-4e8e-8a6c-0043f02e38e8",
   "metadata": {},
   "source": [
    "### Cleaning"
   ]
  },
  {
   "cell_type": "code",
   "execution_count": 65,
   "id": "2522802d-1b9f-4bcc-9fd9-3bcf811a35f3",
   "metadata": {},
   "outputs": [
    {
     "name": "stderr",
     "output_type": "stream",
     "text": [
      "/var/folders/0m/q505qxs135n_k__z8pn_q2fw0000gn/T/ipykernel_57737/193187184.py:1: DtypeWarning: Columns (10) have mixed types. Specify dtype option on import or set low_memory=False.\n",
      "  movies = pd.read_csv(\"data/movies_metadata.csv\")\n"
     ]
    }
   ],
   "source": [
    "movies = pd.read_csv(\"data/movies_metadata.csv\")"
   ]
  },
  {
   "cell_type": "code",
   "execution_count": 66,
   "id": "8c82b8e6-bf15-4731-ab61-e745516cc6e5",
   "metadata": {},
   "outputs": [],
   "source": [
    "movies = movies[[\"id\", \"original_title\", \"overview\", \"genres\"]]\n",
    "movies = movies.rename(columns={\n",
    "    \"id\": \"movie_id\",\n",
    "    \"original_title\": \"title\"\n",
    "})"
   ]
  },
  {
   "cell_type": "code",
   "execution_count": 67,
   "id": "81bb18d6-cdeb-4df1-910e-0d66b69d4284",
   "metadata": {},
   "outputs": [],
   "source": [
    "genres = [\n",
    "    'Animation',\n",
    "    'Comedy',\n",
    "    'Family',\n",
    "    'Adventure',\n",
    "    'Fantasy',\n",
    "    'Romance',\n",
    "    'Drama',\n",
    "    'Action',\n",
    "    'Crime',\n",
    "    'Thriller',\n",
    "    'Horror',\n",
    "    'History',\n",
    "    'Science Fiction',\n",
    "    'Mystery',\n",
    "    'War',\n",
    "    'Foreign',\n",
    "    'Music',\n",
    "    'Documentary',\n",
    "    'Western'\n",
    "]"
   ]
  },
  {
   "cell_type": "code",
   "execution_count": 68,
   "id": "832ab1f5-ac16-4399-a35a-09ffddaba499",
   "metadata": {},
   "outputs": [],
   "source": [
    "def cleaner(x, genres=genres):\n",
    "    ret = []\n",
    "    for y in x:\n",
    "        if y in genres:\n",
    "            ret.append(y)\n",
    "    return ret"
   ]
  },
  {
   "cell_type": "code",
   "execution_count": 69,
   "id": "4978a4e0-ea71-43f0-8be5-f6034ec42787",
   "metadata": {
    "scrolled": true
   },
   "outputs": [],
   "source": [
    "movies[\"genres\"] = movies[\"genres\"].apply(lambda x: [y[\"name\"] for y in literal_eval(x)])\n",
    "movies[\"genres\"] = movies[\"genres\"].apply(cleaner)\n",
    "movies[\"text\"] = movies[\"title\"] + \" \" + movies[\"overview\"] + \" \" + movies[\"genres\"].apply(lambda x: \" \".join(x))"
   ]
  },
  {
   "cell_type": "code",
   "execution_count": 70,
   "id": "a2deb823-3a86-411b-bebf-1a0ee5f73af0",
   "metadata": {},
   "outputs": [],
   "source": [
    "movies[\"movie_id\"] = pd.to_numeric(movies[\"movie_id\"], errors=\"coerce\")\n",
    "movies = movies.dropna()"
   ]
  },
  {
   "cell_type": "code",
   "execution_count": 71,
   "id": "0b16ec41-a1fc-4e43-861e-119a36a070c4",
   "metadata": {},
   "outputs": [],
   "source": [
    "train_data = movies[[\"movie_id\", \"text\"]]\n",
    "train_data = train_data.dropna()"
   ]
  },
  {
   "cell_type": "code",
   "execution_count": 72,
   "id": "70b961df-6efe-42f5-b0f9-b3ae03da2dd7",
   "metadata": {},
   "outputs": [],
   "source": [
    "movie_dict = movies.set_index(\"movie_id\")[\"title\"].to_dict()"
   ]
  },
  {
   "cell_type": "code",
   "execution_count": 73,
   "id": "8f40a428-3e99-46be-a400-1321958a7fe7",
   "metadata": {},
   "outputs": [
    {
     "data": {
      "text/html": [
       "<div>\n",
       "<style scoped>\n",
       "    .dataframe tbody tr th:only-of-type {\n",
       "        vertical-align: middle;\n",
       "    }\n",
       "\n",
       "    .dataframe tbody tr th {\n",
       "        vertical-align: top;\n",
       "    }\n",
       "\n",
       "    .dataframe thead th {\n",
       "        text-align: right;\n",
       "    }\n",
       "</style>\n",
       "<table border=\"1\" class=\"dataframe\">\n",
       "  <thead>\n",
       "    <tr style=\"text-align: right;\">\n",
       "      <th></th>\n",
       "      <th>movie_id</th>\n",
       "      <th>text</th>\n",
       "    </tr>\n",
       "  </thead>\n",
       "  <tbody>\n",
       "    <tr>\n",
       "      <th>0</th>\n",
       "      <td>862.0</td>\n",
       "      <td>Toy Story Led by Woody, Andy's toys live happi...</td>\n",
       "    </tr>\n",
       "    <tr>\n",
       "      <th>1</th>\n",
       "      <td>8844.0</td>\n",
       "      <td>Jumanji When siblings Judy and Peter discover ...</td>\n",
       "    </tr>\n",
       "    <tr>\n",
       "      <th>2</th>\n",
       "      <td>15602.0</td>\n",
       "      <td>Grumpier Old Men A family wedding reignites th...</td>\n",
       "    </tr>\n",
       "    <tr>\n",
       "      <th>3</th>\n",
       "      <td>31357.0</td>\n",
       "      <td>Waiting to Exhale Cheated on, mistreated and s...</td>\n",
       "    </tr>\n",
       "    <tr>\n",
       "      <th>4</th>\n",
       "      <td>11862.0</td>\n",
       "      <td>Father of the Bride Part II Just when George B...</td>\n",
       "    </tr>\n",
       "  </tbody>\n",
       "</table>\n",
       "</div>"
      ],
      "text/plain": [
       "   movie_id                                               text\n",
       "0     862.0  Toy Story Led by Woody, Andy's toys live happi...\n",
       "1    8844.0  Jumanji When siblings Judy and Peter discover ...\n",
       "2   15602.0  Grumpier Old Men A family wedding reignites th...\n",
       "3   31357.0  Waiting to Exhale Cheated on, mistreated and s...\n",
       "4   11862.0  Father of the Bride Part II Just when George B..."
      ]
     },
     "execution_count": 73,
     "metadata": {},
     "output_type": "execute_result"
    }
   ],
   "source": [
    "train_data.head()"
   ]
  },
  {
   "cell_type": "code",
   "execution_count": 79,
   "id": "84d6cec8-3ff0-4fb7-8860-928cc8bf4855",
   "metadata": {},
   "outputs": [
    {
     "data": {
      "text/plain": [
       "44509"
      ]
     },
     "execution_count": 79,
     "metadata": {},
     "output_type": "execute_result"
    }
   ],
   "source": [
    "len(train_data)"
   ]
  },
  {
   "cell_type": "code",
   "execution_count": 80,
   "id": "4c16b165-56cf-4e8e-b4ad-32e88c8099c9",
   "metadata": {},
   "outputs": [],
   "source": [
    "sim_measure = SimilarityMeasure(umap_components=20)"
   ]
  },
  {
   "cell_type": "code",
   "execution_count": 81,
   "id": "60befb9d-0317-4713-9e30-15a0d0d0035a",
   "metadata": {
    "scrolled": true
   },
   "outputs": [
    {
     "name": "stderr",
     "output_type": "stream",
     "text": [
      "Batches: 100%|████████████████████████████████████████████████████████████████████████████████████████████████████████████████████████| 696/696 [06:42<00:00,  1.73it/s]\n"
     ]
    },
    {
     "data": {
      "text/plain": [
       "array([[ 0.04767714, -0.01259631,  0.07834646, ...,  0.03473042,\n",
       "         0.08336627,  0.05029294],\n",
       "       [ 0.04895022,  0.09311377, -0.01963529, ..., -0.00398075,\n",
       "        -0.09352873, -0.02675354],\n",
       "       [-0.06341458, -0.00527815, -0.01627528, ...,  0.01918863,\n",
       "        -0.01144707, -0.00563937],\n",
       "       ...,\n",
       "       [-0.02502596, -0.02891008, -0.05267037, ..., -0.05833787,\n",
       "        -0.01803897, -0.04464827],\n",
       "       [-0.02990002,  0.06295763, -0.08454257, ..., -0.04886457,\n",
       "        -0.00978885, -0.03164884],\n",
       "       [-0.04454112,  0.0115746 , -0.09546685, ..., -0.06198069,\n",
       "        -0.01385289, -0.10803522]], shape=(44509, 384), dtype=float32)"
      ]
     },
     "execution_count": 81,
     "metadata": {},
     "output_type": "execute_result"
    }
   ],
   "source": [
    "sim_measure.fit(train_data[\"text\"].values.tolist(), ids=train_data[\"movie_id\"].values.tolist())"
   ]
  },
  {
   "cell_type": "code",
   "execution_count": 82,
   "id": "fd0c8404-7122-4f75-875a-309c7890269f",
   "metadata": {},
   "outputs": [
    {
     "data": {
      "text/html": [
       "<div>\n",
       "<style scoped>\n",
       "    .dataframe tbody tr th:only-of-type {\n",
       "        vertical-align: middle;\n",
       "    }\n",
       "\n",
       "    .dataframe tbody tr th {\n",
       "        vertical-align: top;\n",
       "    }\n",
       "\n",
       "    .dataframe thead th {\n",
       "        text-align: right;\n",
       "    }\n",
       "</style>\n",
       "<table border=\"1\" class=\"dataframe\">\n",
       "  <thead>\n",
       "    <tr style=\"text-align: right;\">\n",
       "      <th></th>\n",
       "      <th>movie_id</th>\n",
       "      <th>title</th>\n",
       "      <th>overview</th>\n",
       "      <th>genres</th>\n",
       "      <th>text</th>\n",
       "    </tr>\n",
       "  </thead>\n",
       "  <tbody>\n",
       "    <tr>\n",
       "      <th>0</th>\n",
       "      <td>862.0</td>\n",
       "      <td>Toy Story</td>\n",
       "      <td>Led by Woody, Andy's toys live happily in his ...</td>\n",
       "      <td>[Animation, Comedy, Family]</td>\n",
       "      <td>Toy Story Led by Woody, Andy's toys live happi...</td>\n",
       "    </tr>\n",
       "    <tr>\n",
       "      <th>1</th>\n",
       "      <td>8844.0</td>\n",
       "      <td>Jumanji</td>\n",
       "      <td>When siblings Judy and Peter discover an encha...</td>\n",
       "      <td>[Adventure, Fantasy, Family]</td>\n",
       "      <td>Jumanji When siblings Judy and Peter discover ...</td>\n",
       "    </tr>\n",
       "    <tr>\n",
       "      <th>2</th>\n",
       "      <td>15602.0</td>\n",
       "      <td>Grumpier Old Men</td>\n",
       "      <td>A family wedding reignites the ancient feud be...</td>\n",
       "      <td>[Romance, Comedy]</td>\n",
       "      <td>Grumpier Old Men A family wedding reignites th...</td>\n",
       "    </tr>\n",
       "    <tr>\n",
       "      <th>3</th>\n",
       "      <td>31357.0</td>\n",
       "      <td>Waiting to Exhale</td>\n",
       "      <td>Cheated on, mistreated and stepped on, the wom...</td>\n",
       "      <td>[Comedy, Drama, Romance]</td>\n",
       "      <td>Waiting to Exhale Cheated on, mistreated and s...</td>\n",
       "    </tr>\n",
       "    <tr>\n",
       "      <th>4</th>\n",
       "      <td>11862.0</td>\n",
       "      <td>Father of the Bride Part II</td>\n",
       "      <td>Just when George Banks has recovered from his ...</td>\n",
       "      <td>[Comedy]</td>\n",
       "      <td>Father of the Bride Part II Just when George B...</td>\n",
       "    </tr>\n",
       "  </tbody>\n",
       "</table>\n",
       "</div>"
      ],
      "text/plain": [
       "   movie_id                        title  \\\n",
       "0     862.0                    Toy Story   \n",
       "1    8844.0                      Jumanji   \n",
       "2   15602.0             Grumpier Old Men   \n",
       "3   31357.0            Waiting to Exhale   \n",
       "4   11862.0  Father of the Bride Part II   \n",
       "\n",
       "                                            overview  \\\n",
       "0  Led by Woody, Andy's toys live happily in his ...   \n",
       "1  When siblings Judy and Peter discover an encha...   \n",
       "2  A family wedding reignites the ancient feud be...   \n",
       "3  Cheated on, mistreated and stepped on, the wom...   \n",
       "4  Just when George Banks has recovered from his ...   \n",
       "\n",
       "                         genres  \\\n",
       "0   [Animation, Comedy, Family]   \n",
       "1  [Adventure, Fantasy, Family]   \n",
       "2             [Romance, Comedy]   \n",
       "3      [Comedy, Drama, Romance]   \n",
       "4                      [Comedy]   \n",
       "\n",
       "                                                text  \n",
       "0  Toy Story Led by Woody, Andy's toys live happi...  \n",
       "1  Jumanji When siblings Judy and Peter discover ...  \n",
       "2  Grumpier Old Men A family wedding reignites th...  \n",
       "3  Waiting to Exhale Cheated on, mistreated and s...  \n",
       "4  Father of the Bride Part II Just when George B...  "
      ]
     },
     "execution_count": 82,
     "metadata": {},
     "output_type": "execute_result"
    }
   ],
   "source": [
    "movies.head()"
   ]
  },
  {
   "cell_type": "code",
   "execution_count": 85,
   "id": "3bcb0496-0627-4785-b7c4-8a646ce6e9d2",
   "metadata": {
    "scrolled": true
   },
   "outputs": [
    {
     "name": "stderr",
     "output_type": "stream",
     "text": [
      "Batches: 100%|████████████████████████████████████████████████████████████████████████████████████████████████████████████████████████████| 1/1 [00:00<00:00, 41.03it/s]\n"
     ]
    }
   ],
   "source": [
    "preds, _ = sim_measure.infer([train_data[train_data[\"movie_id\"].isin([8844])][\"text\"].iloc[0]], top_k=10)"
   ]
  },
  {
   "cell_type": "code",
   "execution_count": 86,
   "id": "d4e7da1d-b6dd-44a0-8b4a-a68f8235cc07",
   "metadata": {},
   "outputs": [
    {
     "name": "stdout",
     "output_type": "stream",
     "text": [
      "Top 1: 1    Jumanji\n",
      "Name: title, dtype: object\n",
      "Top 2: 892    The Wizard of Oz\n",
      "Name: title, dtype: object\n",
      "Top 3: 40472    Over the Garden Wall\n",
      "Name: title, dtype: object\n",
      "Top 4: 12416    The Spiderwick Chronicles\n",
      "Name: title, dtype: object\n",
      "Top 5: 7011    Peter Pan\n",
      "Name: title, dtype: object\n",
      "Top 6: 43887    George of the Jungle 2\n",
      "Name: title, dtype: object\n",
      "Top 7: 1978    Peter Pan\n",
      "Name: title, dtype: object\n",
      "Top 8: 18209    The Gruffalo\n",
      "Name: title, dtype: object\n",
      "Top 9: 2682    Big\n",
      "Name: title, dtype: object\n",
      "Top 10: 14859    Tom Thumb\n",
      "Name: title, dtype: object\n"
     ]
    }
   ],
   "source": [
    "for i, pred in enumerate(preds[0]):\n",
    "    movie_id = train_data.iloc[pred][\"movie_id\"]\n",
    "    title = movies[movies[\"movie_id\"].isin([movie_id])][\"title\"]\n",
    "    print(f\"Top {i + 1}: {title}\")"
   ]
  },
  {
   "cell_type": "code",
   "execution_count": null,
   "id": "327ad7fe-a334-4353-9374-3af07ce83138",
   "metadata": {},
   "outputs": [],
   "source": []
  }
 ],
 "metadata": {
  "kernelspec": {
   "display_name": "Python 3 (ipykernel)",
   "language": "python",
   "name": "python3"
  },
  "language_info": {
   "codemirror_mode": {
    "name": "ipython",
    "version": 3
   },
   "file_extension": ".py",
   "mimetype": "text/x-python",
   "name": "python",
   "nbconvert_exporter": "python",
   "pygments_lexer": "ipython3",
   "version": "3.13.5"
  }
 },
 "nbformat": 4,
 "nbformat_minor": 5
}
